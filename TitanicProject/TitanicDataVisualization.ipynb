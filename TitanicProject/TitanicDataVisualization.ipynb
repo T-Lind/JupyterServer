{
 "cells": [
  {
   "cell_type": "markdown",
   "id": "e0c39524-935e-4c6b-8419-d8712f6adb8a",
   "metadata": {
    "pycharm": {
     "name": "#%% md\n"
    }
   },
   "source": [
    "# Visualizing and preparing data from the Titanic dataset.\n",
    "### Author: Tiernan Lindauer"
   ]
  },
  {
   "cell_type": "code",
   "execution_count": 1,
   "id": "f51ae4ac-4d23-4144-ba5b-a618e29f2dc2",
   "metadata": {
    "pycharm": {
     "name": "#%%\n"
    }
   },
   "outputs": [],
   "source": [
    "import matplotlib.pyplot as plt\n",
    "import pandas as pd\n",
    "import numpy as np\n",
    "from pandas import DataFrame\n",
    "from sklearn.preprocessing import OrdinalEncoder"
   ]
  },
  {
   "cell_type": "code",
   "execution_count": 3,
   "id": "93490572-f9fe-4800-8dff-17038f6fcd38",
   "metadata": {
    "pycharm": {
     "name": "#%%\n"
    }
   },
   "outputs": [],
   "source": [
    "titanic_data: DataFrame = pd.read_csv(\"data/train.csv\")\n",
    "titanic_data.drop(labels=[\"PassengerId\", \"Name\", \"Cabin\", \"Ticket\"], axis=1, inplace=True)"
   ]
  },
  {
   "cell_type": "markdown",
   "id": "9880efa9-9842-4a40-852c-acba7326f07c",
   "metadata": {
    "pycharm": {
     "name": "#%% md\n"
    }
   },
   "source": [
    "Translate `male` or `female` into either 1 or 0, respectively"
   ]
  },
  {
   "cell_type": "code",
   "execution_count": 4,
   "id": "489a9460-c117-4fa6-a7b1-90a5f4e0298f",
   "metadata": {
    "pycharm": {
     "name": "#%%\n"
    }
   },
   "outputs": [],
   "source": [
    "ordinal_encoder = OrdinalEncoder()\n",
    "sex_cat = titanic_data[[\"Sex\"]]\n",
    "sex_cat_encoded = ordinal_encoder.fit_transform(sex_cat)\n",
    "titanic_data[[\"Sex\"]] = sex_cat_encoded"
   ]
  },
  {
   "cell_type": "markdown",
   "id": "67d064ac-2629-47c4-9ebc-69e18dad5503",
   "metadata": {
    "pycharm": {
     "name": "#%% md\n"
    }
   },
   "source": [
    "Translate the `Embarked` status into categories"
   ]
  },
  {
   "cell_type": "code",
   "execution_count": 5,
   "id": "b37ac2c5-d0da-44f4-9711-f9f5d2797790",
   "metadata": {
    "pycharm": {
     "name": "#%%\n"
    }
   },
   "outputs": [],
   "source": [
    "titanic_data = pd.get_dummies(titanic_data , columns=['Embarked'] , prefix='Embarked')"
   ]
  },
  {
   "cell_type": "markdown",
   "id": "bfba67de-ab9c-4cf4-93de-279375efcbdc",
   "metadata": {
    "pycharm": {
     "name": "#%% md\n"
    }
   },
   "source": [
    "Print how correlated each data entry is with all other data entries"
   ]
  },
  {
   "cell_type": "code",
   "execution_count": 6,
   "id": "6d8312c4-d1dd-4401-8fd6-5531d5205ba3",
   "metadata": {
    "pycharm": {
     "name": "#%%\n"
    }
   },
   "outputs": [
    {
     "name": "stdout",
     "output_type": "stream",
     "text": [
      "Survived      1.000000\n",
      "Fare          0.257307\n",
      "Embarked_C    0.168240\n",
      "Parch         0.081629\n",
      "Embarked_Q    0.003650\n",
      "SibSp        -0.035322\n",
      "Age          -0.077221\n",
      "Embarked_S   -0.155660\n",
      "Pclass       -0.338481\n",
      "Sex          -0.543351\n",
      "Name: Survived, dtype: float64\n"
     ]
    }
   ],
   "source": [
    "corr_matrix: DataFrame = titanic_data.corr()\n",
    "print(corr_matrix[\"Survived\"].sort_values(ascending=False))"
   ]
  },
  {
   "cell_type": "code",
   "execution_count": null,
   "id": "ea6d6d42-c072-47cc-8919-d83b133864a7",
   "metadata": {
    "pycharm": {
     "name": "#%%\n"
    }
   },
   "outputs": [],
   "source": []
  }
 ],
 "metadata": {
  "kernelspec": {
   "display_name": "Python 3 (ipykernel)",
   "language": "python",
   "name": "python3"
  },
  "language_info": {
   "codemirror_mode": {
    "name": "ipython",
    "version": 3
   },
   "file_extension": ".py",
   "mimetype": "text/x-python",
   "name": "python",
   "nbconvert_exporter": "python",
   "pygments_lexer": "ipython3",
   "version": "3.9.9"
  }
 },
 "nbformat": 4,
 "nbformat_minor": 5
}